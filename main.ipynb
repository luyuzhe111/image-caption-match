{
  "cells": [
    {
      "cell_type": "markdown",
      "metadata": {
        "id": "view-in-github",
        "colab_type": "text"
      },
      "source": [
        "<a href=\"https://colab.research.google.com/github/luyuzhe111/image-caption-match/blob/main/main.ipynb\" target=\"_parent\"><img src=\"https://colab.research.google.com/assets/colab-badge.svg\" alt=\"Open In Colab\"/></a>"
      ]
    },
    {
      "cell_type": "code",
      "execution_count": null,
      "metadata": {
        "colab": {
          "base_uri": "https://localhost:8080/"
        },
        "id": "i7VL_cb9YIFm",
        "outputId": "e224a7af-2ffd-44e4-bf4d-c7f68adf0371"
      },
      "outputs": [
        {
          "output_type": "stream",
          "name": "stdout",
          "text": [
            "Mounted at /content/drive\n"
          ]
        }
      ],
      "source": [
        "from google.colab import drive\n",
        "drive.mount('/content/drive')"
      ]
    },
    {
      "cell_type": "code",
      "execution_count": null,
      "metadata": {
        "id": "64P31INAXzq2"
      },
      "outputs": [],
      "source": [
        "import os"
      ]
    },
    {
      "cell_type": "code",
      "execution_count": null,
      "metadata": {
        "id": "9GVxRe8GX_BT"
      },
      "outputs": [],
      "source": [
        "os.chdir('/content/drive/MyDrive/kaggle/wikipedia')"
      ]
    },
    {
      "cell_type": "code",
      "execution_count": null,
      "metadata": {
        "id": "dF3OfFHPYDzl"
      },
      "outputs": [],
      "source": [
        "import pandas as pd\n",
        "from tqdm import tqdm"
      ]
    },
    {
      "cell_type": "markdown",
      "metadata": {
        "id": "8OENiT24ZPD4"
      },
      "source": [
        "# Import packages"
      ]
    },
    {
      "cell_type": "code",
      "execution_count": null,
      "metadata": {
        "id": "KDwS9F2GZcqB",
        "colab": {
          "base_uri": "https://localhost:8080/"
        },
        "outputId": "589ed874-1288-42b4-8964-79eaf4ade365"
      },
      "outputs": [
        {
          "output_type": "stream",
          "name": "stdout",
          "text": [
            "\u001b[K     |████████████████████████████████| 117 kB 4.3 MB/s \n",
            "\u001b[K     |████████████████████████████████| 948 kB 30.2 MB/s \n",
            "\u001b[?25h  Building wheel for albumentations (setup.py) ... \u001b[?25l\u001b[?25hdone\n"
          ]
        }
      ],
      "source": [
        "! pip install -q albumentations==0.4.6"
      ]
    },
    {
      "cell_type": "code",
      "execution_count": null,
      "metadata": {
        "colab": {
          "base_uri": "https://localhost:8080/"
        },
        "id": "zWSvtDspHO2n",
        "outputId": "b73c0a2f-ee7e-4375-c13f-ac58617786c0"
      },
      "outputs": [
        {
          "output_type": "stream",
          "name": "stdout",
          "text": [
            "Collecting cairosvg\n",
            "  Downloading CairoSVG-2.5.2-py3-none-any.whl (45 kB)\n",
            "\u001b[?25l\r\u001b[K     |███████▏                        | 10 kB 17.5 MB/s eta 0:00:01\r\u001b[K     |██████████████▎                 | 20 kB 9.8 MB/s eta 0:00:01\r\u001b[K     |█████████████████████▌          | 30 kB 8.2 MB/s eta 0:00:01\r\u001b[K     |████████████████████████████▋   | 40 kB 7.6 MB/s eta 0:00:01\r\u001b[K     |████████████████████████████████| 45 kB 1.6 MB/s \n",
            "\u001b[?25hCollecting cairocffi\n",
            "  Downloading cairocffi-1.3.0.tar.gz (88 kB)\n",
            "\u001b[?25l\r\u001b[K     |███▊                            | 10 kB 21.5 MB/s eta 0:00:01\r\u001b[K     |███████▍                        | 20 kB 25.3 MB/s eta 0:00:01\r\u001b[K     |███████████                     | 30 kB 32.0 MB/s eta 0:00:01\r\u001b[K     |██████████████▊                 | 40 kB 17.3 MB/s eta 0:00:01\r\u001b[K     |██████████████████▌             | 51 kB 19.6 MB/s eta 0:00:01\r\u001b[K     |██████████████████████▏         | 61 kB 18.9 MB/s eta 0:00:01\r\u001b[K     |█████████████████████████▉      | 71 kB 6.2 MB/s eta 0:00:01\r\u001b[K     |█████████████████████████████▌  | 81 kB 6.9 MB/s eta 0:00:01\r\u001b[K     |████████████████████████████████| 88 kB 4.2 MB/s \n",
            "\u001b[?25hCollecting cssselect2\n",
            "  Downloading cssselect2-0.4.1-py3-none-any.whl (13 kB)\n",
            "Requirement already satisfied: pillow in /usr/local/lib/python3.7/dist-packages (from cairosvg) (7.1.2)\n",
            "Collecting tinycss2\n",
            "  Downloading tinycss2-1.1.1-py3-none-any.whl (21 kB)\n",
            "Requirement already satisfied: defusedxml in /usr/local/lib/python3.7/dist-packages (from cairosvg) (0.7.1)\n",
            "Requirement already satisfied: cffi>=1.1.0 in /usr/local/lib/python3.7/dist-packages (from cairocffi->cairosvg) (1.15.0)\n",
            "Requirement already satisfied: pycparser in /usr/local/lib/python3.7/dist-packages (from cffi>=1.1.0->cairocffi->cairosvg) (2.21)\n",
            "Requirement already satisfied: webencodings in /usr/local/lib/python3.7/dist-packages (from cssselect2->cairosvg) (0.5.1)\n",
            "Building wheels for collected packages: cairocffi\n",
            "  Building wheel for cairocffi (setup.py) ... \u001b[?25l\u001b[?25hdone\n",
            "  Created wheel for cairocffi: filename=cairocffi-1.3.0-py3-none-any.whl size=89667 sha256=4e94fcc26a9f9da27ba0d83afea1f04d9b9fcebc48975285a8bc19e0ae499cf9\n",
            "  Stored in directory: /root/.cache/pip/wheels/4e/ca/e1/5c8a9692a27f639a07c949044bec943f26c81cd53d3805319f\n",
            "Successfully built cairocffi\n",
            "Installing collected packages: tinycss2, cssselect2, cairocffi, cairosvg\n",
            "Successfully installed cairocffi-1.3.0 cairosvg-2.5.2 cssselect2-0.4.1 tinycss2-1.1.1\n"
          ]
        }
      ],
      "source": [
        "! pip install cairosvg"
      ]
    },
    {
      "cell_type": "code",
      "execution_count": null,
      "metadata": {
        "colab": {
          "base_uri": "https://localhost:8080/"
        },
        "id": "_1aj6-Y_Zctq",
        "outputId": "bd0731c4-af94-4f6d-98f7-eba243a166f4"
      },
      "outputs": [
        {
          "output_type": "stream",
          "name": "stdout",
          "text": [
            "Collecting transformers\n",
            "  Downloading transformers-4.13.0-py3-none-any.whl (3.3 MB)\n",
            "\u001b[K     |████████████████████████████████| 3.3 MB 4.2 MB/s \n",
            "\u001b[?25hRequirement already satisfied: tqdm>=4.27 in /usr/local/lib/python3.7/dist-packages (from transformers) (4.62.3)\n",
            "Requirement already satisfied: packaging>=20.0 in /usr/local/lib/python3.7/dist-packages (from transformers) (21.3)\n",
            "Requirement already satisfied: numpy>=1.17 in /usr/local/lib/python3.7/dist-packages (from transformers) (1.19.5)\n",
            "Collecting huggingface-hub<1.0,>=0.1.0\n",
            "  Downloading huggingface_hub-0.2.1-py3-none-any.whl (61 kB)\n",
            "\u001b[K     |████████████████████████████████| 61 kB 514 kB/s \n",
            "\u001b[?25hCollecting sacremoses\n",
            "  Downloading sacremoses-0.0.46-py3-none-any.whl (895 kB)\n",
            "\u001b[K     |████████████████████████████████| 895 kB 38.3 MB/s \n",
            "\u001b[?25hRequirement already satisfied: regex!=2019.12.17 in /usr/local/lib/python3.7/dist-packages (from transformers) (2019.12.20)\n",
            "Collecting tokenizers<0.11,>=0.10.1\n",
            "  Downloading tokenizers-0.10.3-cp37-cp37m-manylinux_2_5_x86_64.manylinux1_x86_64.manylinux_2_12_x86_64.manylinux2010_x86_64.whl (3.3 MB)\n",
            "\u001b[K     |████████████████████████████████| 3.3 MB 37.3 MB/s \n",
            "\u001b[?25hCollecting pyyaml>=5.1\n",
            "  Downloading PyYAML-6.0-cp37-cp37m-manylinux_2_5_x86_64.manylinux1_x86_64.manylinux_2_12_x86_64.manylinux2010_x86_64.whl (596 kB)\n",
            "\u001b[K     |████████████████████████████████| 596 kB 47.6 MB/s \n",
            "\u001b[?25hRequirement already satisfied: importlib-metadata in /usr/local/lib/python3.7/dist-packages (from transformers) (4.8.2)\n",
            "Requirement already satisfied: requests in /usr/local/lib/python3.7/dist-packages (from transformers) (2.23.0)\n",
            "Requirement already satisfied: filelock in /usr/local/lib/python3.7/dist-packages (from transformers) (3.4.0)\n",
            "Requirement already satisfied: typing-extensions>=3.7.4.3 in /usr/local/lib/python3.7/dist-packages (from huggingface-hub<1.0,>=0.1.0->transformers) (3.10.0.2)\n",
            "Requirement already satisfied: pyparsing!=3.0.5,>=2.0.2 in /usr/local/lib/python3.7/dist-packages (from packaging>=20.0->transformers) (3.0.6)\n",
            "Requirement already satisfied: zipp>=0.5 in /usr/local/lib/python3.7/dist-packages (from importlib-metadata->transformers) (3.6.0)\n",
            "Requirement already satisfied: certifi>=2017.4.17 in /usr/local/lib/python3.7/dist-packages (from requests->transformers) (2021.10.8)\n",
            "Requirement already satisfied: idna<3,>=2.5 in /usr/local/lib/python3.7/dist-packages (from requests->transformers) (2.10)\n",
            "Requirement already satisfied: chardet<4,>=3.0.2 in /usr/local/lib/python3.7/dist-packages (from requests->transformers) (3.0.4)\n",
            "Requirement already satisfied: urllib3!=1.25.0,!=1.25.1,<1.26,>=1.21.1 in /usr/local/lib/python3.7/dist-packages (from requests->transformers) (1.24.3)\n",
            "Requirement already satisfied: click in /usr/local/lib/python3.7/dist-packages (from sacremoses->transformers) (7.1.2)\n",
            "Requirement already satisfied: joblib in /usr/local/lib/python3.7/dist-packages (from sacremoses->transformers) (1.1.0)\n",
            "Requirement already satisfied: six in /usr/local/lib/python3.7/dist-packages (from sacremoses->transformers) (1.15.0)\n",
            "Installing collected packages: pyyaml, tokenizers, sacremoses, huggingface-hub, transformers\n",
            "  Attempting uninstall: pyyaml\n",
            "    Found existing installation: PyYAML 3.13\n",
            "    Uninstalling PyYAML-3.13:\n",
            "      Successfully uninstalled PyYAML-3.13\n",
            "Successfully installed huggingface-hub-0.2.1 pyyaml-6.0 sacremoses-0.0.46 tokenizers-0.10.3 transformers-4.13.0\n"
          ]
        }
      ],
      "source": [
        "! pip install transformers"
      ]
    },
    {
      "cell_type": "code",
      "execution_count": null,
      "metadata": {
        "colab": {
          "base_uri": "https://localhost:8080/"
        },
        "id": "RS0iEjoMEbqd",
        "outputId": "4e1686f4-694e-4cd9-a425-0c7e4dfcab22"
      },
      "outputs": [
        {
          "output_type": "stream",
          "name": "stdout",
          "text": [
            "Collecting pytorch-metric-learning\n",
            "  Downloading pytorch_metric_learning-1.0.0-py3-none-any.whl (102 kB)\n",
            "\u001b[K     |████████████████████████████████| 102 kB 4.5 MB/s \n",
            "\u001b[?25hRequirement already satisfied: scikit-learn in /usr/local/lib/python3.7/dist-packages (from pytorch-metric-learning) (1.0.1)\n",
            "Requirement already satisfied: torch>=1.6.0 in /usr/local/lib/python3.7/dist-packages (from pytorch-metric-learning) (1.10.0+cu111)\n",
            "Requirement already satisfied: torchvision in /usr/local/lib/python3.7/dist-packages (from pytorch-metric-learning) (0.11.1+cu111)\n",
            "Requirement already satisfied: tqdm in /usr/local/lib/python3.7/dist-packages (from pytorch-metric-learning) (4.62.3)\n",
            "Requirement already satisfied: numpy in /usr/local/lib/python3.7/dist-packages (from pytorch-metric-learning) (1.19.5)\n",
            "Requirement already satisfied: typing-extensions in /usr/local/lib/python3.7/dist-packages (from torch>=1.6.0->pytorch-metric-learning) (3.10.0.2)\n",
            "Requirement already satisfied: joblib>=0.11 in /usr/local/lib/python3.7/dist-packages (from scikit-learn->pytorch-metric-learning) (1.1.0)\n",
            "Requirement already satisfied: scipy>=1.1.0 in /usr/local/lib/python3.7/dist-packages (from scikit-learn->pytorch-metric-learning) (1.4.1)\n",
            "Requirement already satisfied: threadpoolctl>=2.0.0 in /usr/local/lib/python3.7/dist-packages (from scikit-learn->pytorch-metric-learning) (3.0.0)\n",
            "Requirement already satisfied: pillow!=8.3.0,>=5.3.0 in /usr/local/lib/python3.7/dist-packages (from torchvision->pytorch-metric-learning) (7.1.2)\n",
            "Installing collected packages: pytorch-metric-learning\n",
            "Successfully installed pytorch-metric-learning-1.0.0\n"
          ]
        }
      ],
      "source": [
        "!pip install pytorch-metric-learning"
      ]
    },
    {
      "cell_type": "code",
      "execution_count": null,
      "metadata": {
        "id": "LOLZfZ-zZSkA"
      },
      "outputs": [],
      "source": [
        "import glob\n",
        "import gc\n",
        "gc.enable()\n",
        "import multiprocessing\n",
        "import cv2\n",
        "import copy\n",
        "import time\n",
        "import random\n",
        "from PIL import Image\n",
        "from PIL import ImageFile\n",
        "\n",
        "import base64\n",
        "import pickle\n",
        "\n",
        "# fold\n",
        "from sklearn.model_selection import StratifiedKFold\n",
        "\n",
        "# For downloading images\n",
        "from io import BytesIO\n",
        "\n",
        "# For data manipulation\n",
        "import numpy as np\n",
        "import pandas as pd\n",
        "from numpy import asarray\n",
        "\n",
        "# Pytorch Imports\n",
        "import torch\n",
        "import torch.nn as nn\n",
        "import torch.optim as optim\n",
        "from torch.optim import lr_scheduler\n",
        "from torch.utils.data import Dataset, DataLoader\n",
        "from torch.cuda import amp\n",
        "import torchvision\n",
        "\n",
        "\n",
        "# Utils\n",
        "import joblib\n",
        "from tqdm import tqdm\n",
        "from collections import defaultdict\n",
        "\n",
        "# Sklearn Imports\n",
        "from sklearn.metrics import mean_squared_error\n",
        "from sklearn.model_selection import StratifiedKFold, KFold\n",
        "\n",
        "# For Image Models\n",
        "# import timm\n",
        "\n",
        "# For Transformer Models\n",
        "from transformers import AutoTokenizer, AutoModel\n",
        "from transformers import BertTokenizer, BertModel, BertConfig\n",
        "\n",
        "import torchvision.transforms as transforms\n",
        "\n",
        "import warnings\n",
        "warnings.filterwarnings(\"ignore\")\n"
      ]
    },
    {
      "cell_type": "markdown",
      "metadata": {
        "id": "ypo2ZP7q-o_A"
      },
      "source": [
        "# Load data"
      ]
    },
    {
      "cell_type": "code",
      "execution_count": null,
      "metadata": {
        "id": "fnZOZlxxYPIB"
      },
      "outputs": [],
      "source": [
        "# load data from input files\n",
        "df_train = pd.read_feather('./train-subsample.feather')\n",
        "df_valid = pd.read_feather('./valid-subsample.feather')\n",
        "df_test = pd.read_feather('./test-set.feather')"
      ]
    },
    {
      "cell_type": "code",
      "source": [
        "from collections import Counter\n",
        "import matplotlib.pyplot as plt"
      ],
      "metadata": {
        "id": "ZuLPtq7B156d"
      },
      "execution_count": null,
      "outputs": []
    },
    {
      "cell_type": "code",
      "source": [
        "lan_counter = Counter(df_train['language'])"
      ],
      "metadata": {
        "id": "XCw5CX0N181J"
      },
      "execution_count": null,
      "outputs": []
    },
    {
      "cell_type": "code",
      "source": [
        "lans = [str(i) for i in list(lan_counter.keys())]\n",
        "counts = [int(i) for i in list(lan_counter.values())]"
      ],
      "metadata": {
        "id": "vmB5JVfe2wXF"
      },
      "execution_count": null,
      "outputs": []
    },
    {
      "cell_type": "code",
      "source": [
        "plt.figure(figsize=(20,10))\n",
        "plt.bar(lans, counts)\n",
        "plt.xticks(lans, lans, rotation='vertical')\n",
        "plt.ylabel('counts')\n",
        "plt.xlabel('languages')\n",
        "plt.savefig('language_count.png', dpi=300)"
      ],
      "metadata": {
        "colab": {
          "base_uri": "https://localhost:8080/",
          "height": 556
        },
        "id": "FTftFcSt2L8t",
        "outputId": "3d9daf5a-0248-42e2-ebc4-ea397f97ef0a"
      },
      "execution_count": null,
      "outputs": [
        {
          "output_type": "display_data",
          "data": {
            "image/png": "[encoded data removed]",
            "text/plain": [
              "<Figure size 1440x720 with 1 Axes>"
            ]
          },
          "metadata": {
            "needs_background": "light"
          }
        }
      ]
    },
    {
      "cell_type": "code",
      "source": [
        "cap_counter = Counter([len(i) for i in df_train['caption_title_and_reference_description']])"
      ],
      "metadata": {
        "id": "W9fXNKI13pWk"
      },
      "execution_count": null,
      "outputs": []
    },
    {
      "cell_type": "code",
      "source": [
        "cap_lens = [int(i) for i in list(cap_counter.keys())]\n",
        "cap_lens_count = [int(i) for i in list(cap_counter.values())]"
      ],
      "metadata": {
        "id": "sVizqJlw3-i8"
      },
      "execution_count": null,
      "outputs": []
    },
    {
      "cell_type": "code",
      "source": [
        "plt.figure(figsize=(20,10))\n",
        "plt.bar(cap_lens, cap_lens_count)\n",
        "plt.xlim([0, 400])\n",
        "plt.ylabel('counts')\n",
        "plt.xlabel('length of captions')\n",
        "plt.savefig('caption_length_count.png', dpi=300)"
      ],
      "metadata": {
        "colab": {
          "base_uri": "https://localhost:8080/",
          "height": 522
        },
        "id": "pj6mMFrX4ZqT",
        "outputId": "1f778643-b20b-49c8-832b-e6d8d77f773e"
      },
      "execution_count": null,
      "outputs": [
        {
          "output_type": "display_data",
          "data": {
            "image/png": "[encoded data removed]",
            "text/plain": [
              "<Figure size 1440x720 with 1 Axes>"
            ]
          },
          "metadata": {
            "needs_background": "light"
          }
        }
      ]
    },
    {
      "cell_type": "code",
      "execution_count": null,
      "metadata": {
        "colab": {
          "base_uri": "https://localhost:8080/",
          "height": 179
        },
        "id": "W447hUeTYYnm",
        "outputId": "6383f37c-a7c2-4384-a04c-8c9e883e36cd"
      },
      "outputs": [
        {
          "data": {
            "text/html": [
              "<div>\n",
              "<style scoped>\n",
              "    .dataframe tbody tr th:only-of-type {\n",
              "        vertical-align: middle;\n",
              "    }\n",
              "\n",
              "    .dataframe tbody tr th {\n",
              "        vertical-align: top;\n",
              "    }\n",
              "\n",
              "    .dataframe thead th {\n",
              "        text-align: right;\n",
              "    }\n",
              "</style>\n",
              "<table border=\"1\" class=\"dataframe\">\n",
              "  <thead>\n",
              "    <tr style=\"text-align: right;\">\n",
              "      <th></th>\n",
              "      <th>language</th>\n",
              "      <th>image_url</th>\n",
              "      <th>caption_title_and_reference_description</th>\n",
              "      <th>page_title</th>\n",
              "      <th>path</th>\n",
              "    </tr>\n",
              "  </thead>\n",
              "  <tbody>\n",
              "    <tr>\n",
              "      <th>0</th>\n",
              "      <td>sk</td>\n",
              "      <td>http://upload.wikimedia.org/wikipedia/commons/...</td>\n",
              "      <td>Edubuntu &lt;/s&gt; Edubuntu 7.04 - Gaim a napaľovanie</td>\n",
              "      <td>Edubuntu</td>\n",
              "      <td>./images/images0/sk/13737.jpg</td>\n",
              "    </tr>\n",
              "    <tr>\n",
              "      <th>1</th>\n",
              "      <td>en</td>\n",
              "      <td>https://upload.wikimedia.org/wikipedia/commons...</td>\n",
              "      <td>Lensfield Road &lt;/s&gt;</td>\n",
              "      <td>Lensfield Road</td>\n",
              "      <td>./images/images4/en/95883.jpg</td>\n",
              "    </tr>\n",
              "    <tr>\n",
              "      <th>2</th>\n",
              "      <td>en</td>\n",
              "      <td>http://upload.wikimedia.org/wikipedia/commons/...</td>\n",
              "      <td>Argao &lt;/s&gt; Old cannons of Argao</td>\n",
              "      <td>Argao</td>\n",
              "      <td>./images/images3/en/66896.jpg</td>\n",
              "    </tr>\n",
              "  </tbody>\n",
              "</table>\n",
              "</div>"
            ],
            "text/plain": [
              "  language  ...                           path\n",
              "0       sk  ...  ./images/images0/sk/13737.jpg\n",
              "1       en  ...  ./images/images4/en/95883.jpg\n",
              "2       en  ...  ./images/images3/en/66896.jpg\n",
              "\n",
              "[3 rows x 5 columns]"
            ]
          },
          "execution_count": 11,
          "metadata": {},
          "output_type": "execute_result"
        }
      ],
      "source": [
        "df_train.head(3)"
      ]
    },
    {
      "cell_type": "code",
      "execution_count": null,
      "metadata": {
        "colab": {
          "base_uri": "https://localhost:8080/"
        },
        "id": "ntBSSaxJHzBy",
        "outputId": "b6c2923e-3f07-4cd6-d978-aa63235f0853"
      },
      "outputs": [
        {
          "name": "stdout",
          "output_type": "stream",
          "text": [
            "size of the train/val/test dataset: 79342, 9918, 300\n"
          ]
        }
      ],
      "source": [
        "print(f'size of the train/val/test dataset: {len(df_train)}, {len(df_valid)}, {len(df_test)}')"
      ]
    },
    {
      "cell_type": "markdown",
      "metadata": {
        "id": "1BR48HHObVOg"
      },
      "source": [
        "# Set up\n"
      ]
    },
    {
      "cell_type": "markdown",
      "metadata": {
        "id": "ME7h3Zj5SrjU"
      },
      "source": [
        "## config"
      ]
    },
    {
      "cell_type": "code",
      "execution_count": null,
      "metadata": {
        "id": "TdhVHJ8pbX9u"
      },
      "outputs": [],
      "source": [
        "def optimal_num_of_loader_workers():\n",
        "    num_cpus = multiprocessing.cpu_count()\n",
        "    num_gpus = torch.cuda.device_count()\n",
        "    optimal_value = min(num_cpus, num_gpus*4) if num_gpus else num_cpus - 1\n",
        "    return optimal_value"
      ]
    },
    {
      "cell_type": "code",
      "execution_count": null,
      "metadata": {
        "id": "K3VmBHXtZCd6"
      },
      "outputs": [],
      "source": [
        "CONFIG = {\n",
        "    \"seed\": 2021,\n",
        "    \"epochs\": 5,\n",
        "    \n",
        "    \"img_size\": 224,\n",
        "    \"embedding_size\": 1024,\n",
        "    \"text_model_name\": \"xlm-roberta-base\",\n",
        "    \"pool\": 'gem-2',\n",
        "    \"freeze_image_model\": False,\n",
        "    \"freeze_text_model\": False,\n",
        "    \"normalize_embeddings\": False, \n",
        "    \"train_batch_size\": 32,\n",
        "    \"valid_batch_size\": 32,\n",
        "    \"learning_rate\": 1e-5,\n",
        "    \"scheduler\": 'CosineAnnealingLR',\n",
        "    \"min_lr\": 1e-6,\n",
        "    'num_workers':4,\n",
        "    \n",
        "    \"T_max\": 500,\n",
        "    \"weight_decay\": 1e-6,\n",
        "    \"max_length\": 32,\n",
        "    \n",
        "    \"n_accumulate\": 1,\n",
        "}\n",
        "\n",
        "CONFIG[\"experiment\"] = f\"dim-{CONFIG['embedding_size']}_pool-{CONFIG['pool']}\"\n",
        "if CONFIG[\"normalize_embeddings\"]:\n",
        "  CONFIG[\"experiment\"] = CONFIG[\"experiment\"] + '_norm'\n",
        "CONFIG[\"tokenizer\"] = AutoTokenizer.from_pretrained(CONFIG['text_model_name'])"
      ]
    },
    {
      "cell_type": "code",
      "execution_count": null,
      "metadata": {
        "id": "GLVnTEbcbatZ"
      },
      "outputs": [],
      "source": [
        "def set_seed(seed=42):\n",
        "    '''Sets the seed of the entire notebook so results are the same every time we run.\n",
        "    This is for REPRODUCIBILITY.'''\n",
        "    np.random.seed(seed)\n",
        "    torch.manual_seed(seed)\n",
        "    torch.cuda.manual_seed(seed)\n",
        "    # When running on the CuDNN backend, two further options must be set\n",
        "    torch.backends.cudnn.deterministic = True\n",
        "    torch.backends.cudnn.benchmark = False\n",
        "    # Set a fixed value for the hash seed\n",
        "    os.environ['PYTHONHASHSEED'] = str(seed)\n",
        "    \n",
        "set_seed(CONFIG['seed'])"
      ]
    },
    {
      "cell_type": "markdown",
      "metadata": {
        "id": "1gAKHa6CfmJ1"
      },
      "source": [
        "# Dataset"
      ]
    },
    {
      "cell_type": "code",
      "execution_count": null,
      "metadata": {
        "id": "oAxt_af32X56"
      },
      "outputs": [],
      "source": [
        "def load_img(dir):\n",
        "  image = Image.open(dir)\n",
        "  return image"
      ]
    },
    {
      "cell_type": "code",
      "execution_count": null,
      "metadata": {
        "id": "yRmiGA6Gb1cx"
      },
      "outputs": [],
      "source": [
        "class WikipediaDataset(Dataset):\n",
        "    def __init__(self, data, tokenizer, max_length, transforms=None):\n",
        "        self.data = data.reset_index(drop=True)\n",
        "        self.max_len = max_length\n",
        "        self.tokenizer = tokenizer\n",
        "        self.transforms = transforms\n",
        "        \n",
        "    def __len__(self):\n",
        "        return len(self.data)\n",
        "    \n",
        "    def __getitem__(self, index):\n",
        "        img = load_img(self.data.at[index, \"path\"])\n",
        "        if self.transforms:\n",
        "          img = self.transforms(img)\n",
        "        \n",
        "        caption = self.data.at[index, \"caption_title_and_reference_description\"]\n",
        "        caption = caption.replace(\"[SEP]\", \"</s>\") # sep token for xlm-roberta\n",
        "        inputs = self.tokenizer.encode_plus(\n",
        "            caption,\n",
        "            truncation=True,\n",
        "            add_special_tokens=True,\n",
        "            max_length=self.max_len,\n",
        "            padding='max_length'\n",
        "        )\n",
        "        \n",
        "        ids = inputs['input_ids']\n",
        "        mask = inputs['attention_mask']\n",
        "       \n",
        "        return {\n",
        "            'ids': torch.tensor(ids, dtype=torch.long),\n",
        "            'mask': torch.tensor(mask, dtype=torch.long),\n",
        "            'image': img,\n",
        "        }"
      ]
    },
    {
      "cell_type": "markdown",
      "metadata": {
        "id": "gVblG88FGItB"
      },
      "source": [
        "# Data Transforms"
      ]
    },
    {
      "cell_type": "code",
      "execution_count": null,
      "metadata": {
        "id": "GcdP2TN4GFmE"
      },
      "outputs": [],
      "source": [
        "data_transforms = {\n",
        "    \"train\": transforms.Compose([   \n",
        "        transforms.RandomHorizontalFlip(),                                      \n",
        "        transforms.ToTensor(),\n",
        "        transforms.Normalize((0.485, 0.456, 0.406), (0.229, 0.224, 0.225)),\n",
        "    ]),\n",
        "    \n",
        "    \"valid\": transforms.Compose([\n",
        "        transforms.ToTensor(),\n",
        "        transforms.Normalize((0.485, 0.456, 0.406), (0.229, 0.224, 0.225)),\n",
        "    ])\n",
        "}"
      ]
    },
    {
      "cell_type": "markdown",
      "metadata": {
        "id": "jQn36Z0scpcm"
      },
      "source": [
        "# Dataloader"
      ]
    },
    {
      "cell_type": "code",
      "execution_count": null,
      "metadata": {
        "id": "jj-EBq7-b1jl"
      },
      "outputs": [],
      "source": [
        "train_dataset = WikipediaDataset(df_train, CONFIG[\"tokenizer\"], CONFIG[\"max_length\"], transforms=data_transforms[\"train\"])\n",
        "train_loader = DataLoader(train_dataset, batch_size=CONFIG['train_batch_size'], num_workers=CONFIG['num_workers'], shuffle=True, pin_memory=True)\n",
        "\n",
        "valid_dataset = WikipediaDataset(df_valid, CONFIG[\"tokenizer\"], CONFIG[\"max_length\"], transforms=data_transforms[\"valid\"])\n",
        "valid_loader = DataLoader(valid_dataset, batch_size=CONFIG['valid_batch_size'], num_workers=CONFIG['num_workers'], shuffle=False, pin_memory=True)\n",
        "\n",
        "test_dataset = WikipediaDataset(df_test, CONFIG[\"tokenizer\"], CONFIG[\"max_length\"], transforms=data_transforms[\"valid\"])\n",
        "test_loader = DataLoader(test_dataset, batch_size=CONFIG['valid_batch_size'], num_workers=CONFIG['num_workers'], shuffle=False, pin_memory=True)"
      ]
    },
    {
      "cell_type": "markdown",
      "metadata": {
        "id": "E5hI8kQaZhgF"
      },
      "source": [
        "# Image model"
      ]
    },
    {
      "cell_type": "code",
      "execution_count": null,
      "metadata": {
        "id": "JRjGUB-Sb1mP"
      },
      "outputs": [],
      "source": [
        "from torchvision.models import resnet50"
      ]
    },
    {
      "cell_type": "code",
      "execution_count": null,
      "metadata": {
        "id": "sbvQNzKSvXAK"
      },
      "outputs": [],
      "source": [
        "class ImageFeatureExtractor(nn.Module):\n",
        "    def __init__(self, projector=[2048, 512, 64, 8], pool='gem-1'):\n",
        "        super(ImageFeatureExtractor, self).__init__()\n",
        "        model = resnet50(pretrained=True)\n",
        "        modules = nn.ModuleList(model.children())[:-2]\n",
        "        self.features = nn.Sequential(*modules)\n",
        "\n",
        "        arch=[]\n",
        "        for i in range(1,len(projector)):\n",
        "            arch.append(nn.Linear(projector[i-1], projector[i]))\n",
        "            if i!=len(projector)-1:\n",
        "                arch.append(nn.ReLU())\n",
        "        \n",
        "        self.projector=nn.Sequential(*arch)\n",
        "        self.pool = pool\n",
        "\n",
        "    def forward(self, inputs):\n",
        "        output = self.features(inputs)\n",
        "        output = torch.flatten(output, start_dim=-2)\n",
        "        if self.pool == 'gem-1':\n",
        "          output = output.mean(-1)\n",
        "        elif self.pool == 'gem-2':\n",
        "          output = torch.pow((output ** 2).mean(-1), 1/2)\n",
        "        elif self.pool == 'gem-inf':\n",
        "          output = output.max(-1)[0]\n",
        "        output = self.projector(output)\n",
        "        return output"
      ]
    },
    {
      "cell_type": "code",
      "execution_count": null,
      "metadata": {
        "id": "0XLvuWMub1oi"
      },
      "outputs": [],
      "source": [
        "projector = [2048, CONFIG['embedding_size']]\n",
        "image_model = ImageFeatureExtractor(projector=projector, pool=CONFIG['pool']).cuda()\n",
        "image_model.train()\n",
        "if CONFIG['freeze_image_model']:\n",
        "  print('freeze image encoder features')\n",
        "  for name, p in image_model.named_parameters():\n",
        "    if 'features' in name:\n",
        "      p.requires_grad = False"
      ]
    },
    {
      "cell_type": "markdown",
      "metadata": {
        "id": "AD20LuByZ2-B"
      },
      "source": [
        "# Text model"
      ]
    },
    {
      "cell_type": "code",
      "execution_count": null,
      "metadata": {
        "id": "H5PRdagGOJvq"
      },
      "outputs": [],
      "source": [
        "class TextExtractorModel(nn.Module):\n",
        "    def __init__(self, text_model, projector=[748, 96, 32]):\n",
        "        super(TextExtractorModel, self).__init__()\n",
        "        self.text_model = AutoModel.from_pretrained(text_model)\n",
        "\n",
        "        arch=[]\n",
        "        for i in range(1,len(projector)):\n",
        "            arch.append(nn.Linear(projector[i-1], projector[i]))\n",
        "            if i!=len(projector)-1:\n",
        "                arch.append(nn.ReLU())\n",
        "        \n",
        "        self.projector=nn.Sequential(*arch)\n",
        "        self.init_weights(self.projector)\n",
        "        \n",
        "    def init_weights(self, m):\n",
        "        if type(m) == torch.nn.Linear:\n",
        "            torch.nn.init.xavier_uniform_(m.weight)\n",
        "            m.bias.data.fill_(0)\n",
        "            \n",
        "    def forward(self, ids, mask):\n",
        "        out = self.text_model(input_ids=ids, attention_mask=mask, output_hidden_states=False)[1]\n",
        "        text_embeddings = self.projector(out)\n",
        "        return text_embeddings"
      ]
    },
    {
      "cell_type": "code",
      "execution_count": null,
      "metadata": {
        "colab": {
          "base_uri": "https://localhost:8080/"
        },
        "id": "s7Wl7BNPPsWd",
        "outputId": "cb3683f3-1e64-4799-effb-17d4b1adc4ce"
      },
      "outputs": [
        {
          "name": "stderr",
          "output_type": "stream",
          "text": [
            "Some weights of the model checkpoint at xlm-roberta-base were not used when initializing XLMRobertaModel: ['lm_head.layer_norm.weight', 'lm_head.bias', 'lm_head.dense.weight', 'lm_head.dense.bias', 'lm_head.decoder.weight', 'lm_head.layer_norm.bias']\n",
            "- This IS expected if you are initializing XLMRobertaModel from the checkpoint of a model trained on another task or with another architecture (e.g. initializing a BertForSequenceClassification model from a BertForPreTraining model).\n",
            "- This IS NOT expected if you are initializing XLMRobertaModel from the checkpoint of a model that you expect to be exactly identical (initializing a BertForSequenceClassification model from a BertForSequenceClassification model).\n"
          ]
        }
      ],
      "source": [
        "projector=[768, CONFIG['embedding_size']]\n",
        "text_model = TextExtractorModel(CONFIG['text_model_name'], projector=projector).cuda()\n",
        "text_model.train()\n",
        "if CONFIG['freeze_text_model']:\n",
        "  print('freeze text encoder features')\n",
        "  for name, p in text_model.named_parameters():\n",
        "    if 'text_model' in name:\n",
        "      p.requires_grad = False"
      ]
    },
    {
      "cell_type": "markdown",
      "metadata": {
        "id": "mTWCE5MgabvB"
      },
      "source": [
        "# Optimizer"
      ]
    },
    {
      "cell_type": "code",
      "execution_count": null,
      "metadata": {
        "id": "oqtyjQgxS75M"
      },
      "outputs": [],
      "source": [
        "optimizer = optim.Adam([\n",
        "                {'params': image_model.parameters()},\n",
        "                {'params': text_model.parameters()}\n",
        "            ], lr=CONFIG['learning_rate'], weight_decay=CONFIG['weight_decay'], betas=(0.9, 0.999), amsgrad=True)"
      ]
    },
    {
      "cell_type": "markdown",
      "metadata": {
        "id": "mvVKVRHVadp3"
      },
      "source": [
        "# Loss function"
      ]
    },
    {
      "cell_type": "code",
      "execution_count": null,
      "metadata": {
        "id": "s1mAWIZKTD6R"
      },
      "outputs": [],
      "source": [
        "from pytorch_metric_learning import distances, losses, miners\n",
        "loss_func = losses.TripletMarginLoss(distance=distances.LpDistance(normalize_embeddings=CONFIG[\"normalize_embeddings\"]))\n",
        "miner = miners.MultiSimilarityMiner()"
      ]
    },
    {
      "cell_type": "markdown",
      "metadata": {
        "id": "Xw4VNzAI2uEQ"
      },
      "source": [
        "# Training & Validation"
      ]
    },
    {
      "cell_type": "code",
      "execution_count": null,
      "metadata": {
        "id": "cFl2QtBbb1qw"
      },
      "outputs": [],
      "source": [
        "def train(epoch, image_model, text_model):\n",
        "  losses = []\n",
        "  image_model.train()\n",
        "  text_model.train()\n",
        "  for index, item in enumerate(tqdm(train_loader)):\n",
        "    optimizer.zero_grad()\n",
        "\n",
        "    # transformed image\n",
        "    img = item['image'].cuda()\n",
        "    \n",
        "    # tokens that define the captions\n",
        "    mask = item['mask'].cuda()\n",
        "    ids = item['ids'].cuda()          \n",
        "    \n",
        "    # get encoded images; N x feature_dim (N = batch size)\n",
        "    image_outputs = image_model(img)\n",
        "\n",
        "    # get encoded captions; N x feature_dim\n",
        "    text_outputs = text_model(ids, mask)\n",
        "\n",
        "    embeddings = torch.cat((image_outputs, text_outputs), dim=0) # 2N x feature_dim\n",
        "\n",
        "    batch_size = image_outputs.shape[0]\n",
        "    labels = torch.arange(batch_size)\n",
        "    labels = torch.cat([labels, labels], dim=0)\n",
        "\n",
        "    hard_pairs = miner(embeddings, labels)\n",
        "    loss = loss_func(embeddings, labels, hard_pairs)\n",
        "    \n",
        "    loss.backward()\n",
        "    optimizer.step()\n",
        "\n",
        "    losses.append(loss.item())\n",
        "\n",
        "  return np.array(losses).mean()"
      ]
    },
    {
      "cell_type": "code",
      "execution_count": null,
      "metadata": {
        "id": "PzHcLTy5yaAp"
      },
      "outputs": [],
      "source": [
        "def validate(epoch, image_model, text_model, model_dir):\n",
        "  losses = []\n",
        "  \n",
        "  with torch.no_grad():\n",
        "    image_model.eval()\n",
        "    text_model.eval()\n",
        "    for index, item in enumerate(tqdm(valid_loader)):\n",
        "      img = item['image'].cuda()\n",
        "      mask = item['mask'].cuda()\n",
        "      ids = item['ids'].cuda()          \n",
        "      \n",
        "      image_outputs = image_model(img)\n",
        "      text_outputs = text_model(ids, mask)\n",
        "\n",
        "      embeddings = torch.cat((image_outputs, text_outputs), dim=0) # 2N x feature_dim\n",
        "      batch_size = image_outputs.shape[0]\n",
        "      labels = torch.arange(batch_size)\n",
        "      labels = torch.cat([labels, labels], dim=0)\n",
        "\n",
        "      hard_pairs = miner(embeddings, labels)\n",
        "      loss = loss_func(embeddings, labels, hard_pairs)\n",
        "\n",
        "      losses.append(loss.item())\n",
        "    \n",
        "    torch.save(image_model.state_dict(), f'{model_dir}/image_model_epoch{epoch}.pt') \n",
        "    torch.save(text_model.state_dict(), f'{model_dir}/text_model_epoch{epoch}.pt') \n",
        "\n",
        "  return np.array(losses).mean()"
      ]
    },
    {
      "cell_type": "code",
      "execution_count": null,
      "metadata": {
        "colab": {
          "background_save": true,
          "base_uri": "https://localhost:8080/"
        },
        "id": "vYY7gL4jybsB",
        "outputId": "9bf3f279-6726-44ae-e93c-5f1db2b89d7c"
      },
      "outputs": [
        {
          "name": "stderr",
          "output_type": "stream",
          "text": [
            "100%|██████████| 2480/2480 [20:06<00:00,  2.06it/s]\n",
            "100%|██████████| 310/310 [01:03<00:00,  4.88it/s]\n"
          ]
        },
        {
          "name": "stdout",
          "output_type": "stream",
          "text": [
            "0.2783396970420595 0.3990547482044466\n",
            "loss has been decreased from 1000 to 0.3990547482044466\n"
          ]
        },
        {
          "name": "stderr",
          "output_type": "stream",
          "text": [
            "100%|██████████| 2480/2480 [18:19<00:00,  2.26it/s]\n",
            "100%|██████████| 310/310 [00:54<00:00,  5.70it/s]\n"
          ]
        },
        {
          "name": "stdout",
          "output_type": "stream",
          "text": [
            "0.136276232129744 0.3432222064464323\n",
            "loss has been decreased from 0.3990547482044466 to 0.3432222064464323\n"
          ]
        },
        {
          "name": "stderr",
          "output_type": "stream",
          "text": [
            "100%|██████████| 2480/2480 [18:13<00:00,  2.27it/s]\n",
            "100%|██████████| 310/310 [00:52<00:00,  5.94it/s]\n"
          ]
        },
        {
          "name": "stdout",
          "output_type": "stream",
          "text": [
            "0.12357714285232847 0.3072634062459392\n",
            "loss has been decreased from 0.3432222064464323 to 0.3072634062459392\n"
          ]
        },
        {
          "name": "stderr",
          "output_type": "stream",
          "text": [
            "100%|██████████| 2480/2480 [18:10<00:00,  2.27it/s]\n",
            "100%|██████████| 310/310 [00:51<00:00,  6.01it/s]\n"
          ]
        },
        {
          "name": "stdout",
          "output_type": "stream",
          "text": [
            "0.11666413700628665 0.2791270008971614\n",
            "loss has been decreased from 0.3072634062459392 to 0.2791270008971614\n"
          ]
        },
        {
          "name": "stderr",
          "output_type": "stream",
          "text": [
            "100%|██████████| 2480/2480 [18:15<00:00,  2.26it/s]\n",
            "100%|██████████| 310/310 [00:53<00:00,  5.80it/s]\n"
          ]
        },
        {
          "name": "stdout",
          "output_type": "stream",
          "text": [
            "0.11138389994720778 0.2524787601444029\n",
            "loss has been decreased from 0.2791270008971614 to 0.2524787601444029\n"
          ]
        },
        {
          "name": "stderr",
          "output_type": "stream",
          "text": [
            "100%|██████████| 2480/2480 [18:23<00:00,  2.25it/s]\n",
            "100%|██████████| 310/310 [01:00<00:00,  5.10it/s]\n"
          ]
        },
        {
          "name": "stdout",
          "output_type": "stream",
          "text": [
            "0.10724006131772072 0.2392002728677565\n",
            "loss has been decreased from 0.2524787601444029 to 0.2392002728677565\n"
          ]
        },
        {
          "name": "stderr",
          "output_type": "stream",
          "text": [
            "100%|██████████| 2480/2480 [18:21<00:00,  2.25it/s]\n",
            "100%|██████████| 310/310 [01:09<00:00,  4.47it/s]\n"
          ]
        },
        {
          "name": "stdout",
          "output_type": "stream",
          "text": [
            "0.10434448779410412 0.23038990641793897\n",
            "loss has been decreased from 0.2392002728677565 to 0.23038990641793897\n"
          ]
        },
        {
          "name": "stderr",
          "output_type": "stream",
          "text": [
            "100%|██████████| 2480/2480 [18:40<00:00,  2.21it/s]\n",
            "100%|██████████| 310/310 [01:25<00:00,  3.62it/s]\n"
          ]
        },
        {
          "name": "stdout",
          "output_type": "stream",
          "text": [
            "0.10242539566731261 0.21745871848637058\n",
            "loss has been decreased from 0.23038990641793897 to 0.21745871848637058\n"
          ]
        },
        {
          "name": "stderr",
          "output_type": "stream",
          "text": [
            "100%|██████████| 2480/2480 [19:17<00:00,  2.14it/s]\n",
            "100%|██████████| 310/310 [01:22<00:00,  3.76it/s]\n"
          ]
        },
        {
          "name": "stdout",
          "output_type": "stream",
          "text": [
            "0.10027391381802098 0.21241294347470807\n",
            "loss has been decreased from 0.21745871848637058 to 0.21241294347470807\n"
          ]
        },
        {
          "name": "stderr",
          "output_type": "stream",
          "text": [
            "100%|██████████| 2480/2480 [19:43<00:00,  2.10it/s]\n",
            "100%|██████████| 310/310 [01:23<00:00,  3.71it/s]\n"
          ]
        },
        {
          "name": "stdout",
          "output_type": "stream",
          "text": [
            "0.09899038927809846 0.20520761734054935\n",
            "loss has been decreased from 0.21241294347470807 to 0.20520761734054935\n"
          ]
        }
      ],
      "source": [
        "train_losses = []\n",
        "valid_losses = []\n",
        "best_val_loss = 1000\n",
        "best_epoch = 0\n",
        "epochs = 10\n",
        "exp_name = CONFIG['experiment']\n",
        "model_dir = f'./checkpoints/{exp_name}'\n",
        "os.makedirs(model_dir, exist_ok=True)\n",
        "\n",
        "for epoch in range(epochs):\n",
        "  train_loss = train(epoch, image_model, text_model)\n",
        "  valid_loss = validate(epoch, image_model, text_model, model_dir)\n",
        "\n",
        "  print(train_loss, valid_loss)\n",
        "\n",
        "  train_losses.append(train_loss)\n",
        "  valid_losses.append(valid_loss)\n",
        "\n",
        "  if valid_loss < best_val_loss:\n",
        "    print(f'loss has been decreased from {best_val_loss} to {valid_loss}')\n",
        "    best_val_loss = valid_loss\n",
        "    best_epoch = epoch\n",
        "\n",
        "    torch.save(image_model.state_dict(), f'{model_dir}/best_image_model.pt') \n",
        "    torch.save(text_model.state_dict(), f'{model_dir}/best_text_model.pt')\n",
        "\n",
        "df = pd.DataFrame()\n",
        "df['epochs'] = [i for i in range(epochs)]\n",
        "df['train_loss'] = train_losses\n",
        "df['val_loss'] = valid_losses\n",
        "df.to_csv(f'{model_dir}/logger.csv')"
      ]
    },
    {
      "cell_type": "code",
      "execution_count": null,
      "metadata": {
        "colab": {
          "background_save": true
        },
        "id": "eX81gXKykpf9",
        "outputId": "ee339d05-c890-4dea-dd7a-d50b68572fb7"
      },
      "outputs": [
        {
          "name": "stderr",
          "output_type": "stream",
          "text": [
            "Some weights of the model checkpoint at xlm-roberta-base were not used when initializing XLMRobertaModel: ['lm_head.layer_norm.weight', 'lm_head.bias', 'lm_head.dense.weight', 'lm_head.dense.bias', 'lm_head.decoder.weight', 'lm_head.layer_norm.bias']\n",
            "- This IS expected if you are initializing XLMRobertaModel from the checkpoint of a model trained on another task or with another architecture (e.g. initializing a BertForSequenceClassification model from a BertForPreTraining model).\n",
            "- This IS NOT expected if you are initializing XLMRobertaModel from the checkpoint of a model that you expect to be exactly identical (initializing a BertForSequenceClassification model from a BertForSequenceClassification model).\n"
          ]
        },
        {
          "data": {
            "text/plain": [
              "<All keys matched successfully>"
            ]
          },
          "execution_count": null,
          "metadata": {},
          "output_type": "execute_result"
        }
      ],
      "source": [
        "projector = [2048, CONFIG['embedding_size']]\n",
        "best_image_model = ImageFeatureExtractor(projector=projector, pool=CONFIG['pool']).cuda()\n",
        "projector=[768, CONFIG['embedding_size']]\n",
        "best_text_model = TextExtractorModel(CONFIG['text_model_name'], projector=projector).cuda()\n",
        "\n",
        "best_image_model.load_state_dict(torch.load(f'{model_dir}/best_image_model.pt'))\n",
        "best_text_model.load_state_dict(torch.load(f'{model_dir}/best_text_model.pt'))"
      ]
    },
    {
      "cell_type": "markdown",
      "metadata": {
        "id": "jq3VeGWd24-p"
      },
      "source": [
        "# Test model"
      ]
    },
    {
      "cell_type": "code",
      "execution_count": null,
      "metadata": {
        "colab": {
          "background_save": true
        },
        "id": "5VmXsJY1b0yy"
      },
      "outputs": [],
      "source": [
        "from torch.nn.functional import normalize"
      ]
    },
    {
      "cell_type": "code",
      "execution_count": null,
      "metadata": {
        "colab": {
          "background_save": true
        },
        "id": "RKKdiwuq7iZa"
      },
      "outputs": [],
      "source": [
        "from sklearn.neighbors import NearestNeighbors\n",
        "from sklearn.metrics import top_k_accuracy_score"
      ]
    },
    {
      "cell_type": "code",
      "execution_count": null,
      "metadata": {
        "id": "JDOsuxoVmt6k"
      },
      "outputs": [],
      "source": [
        "test_captions = df_test['caption_title_and_reference_description']\n",
        "text_model.eval()\n",
        "test_caption_tokens = []\n",
        "for caption in tqdm(test_captions):\n",
        "  inputs = CONFIG[\"tokenizer\"].encode_plus(\n",
        "              caption,\n",
        "              truncation=True,\n",
        "              add_special_tokens=True,\n",
        "              max_length=CONFIG[\"max_length\"],\n",
        "              padding='max_length'\n",
        "  )\n",
        "  ids = torch.tensor(inputs['input_ids'], dtype=torch.long).cuda().unsqueeze(0)\n",
        "  mask = torch.tensor(inputs['attention_mask'], dtype=torch.long).cuda().unsqueeze(0)\n",
        "  text_features = best_text_model(ids, mask)\n",
        "  if CONFIG[\"normalize_embeddings\"]:\n",
        "    text_features = normalize(best_text_model(ids, mask))\n",
        "  else:\n",
        "    text_features = best_text_model(ids, mask)\n",
        "  text_features = text_features.cpu().detach().numpy()\n",
        "  test_caption_tokens.append(text_features.squeeze())\n",
        "test_caption_base = np.stack(test_caption_tokens, axis=1).T"
      ]
    },
    {
      "cell_type": "code",
      "execution_count": null,
      "metadata": {
        "id": "8sCFbxbZ7srM"
      },
      "outputs": [],
      "source": [
        "caption_retriever = NearestNeighbors(n_neighbors=5, p=2).fit(test_caption_base)"
      ]
    },
    {
      "cell_type": "code",
      "execution_count": null,
      "metadata": {
        "id": "vkCJlK5v7vQh"
      },
      "outputs": [],
      "source": [
        "relevant_k = 10"
      ]
    },
    {
      "cell_type": "code",
      "execution_count": null,
      "metadata": {
        "id": "LhoSnrD77xU2"
      },
      "outputs": [],
      "source": [
        "best_image_model.eval()\n",
        "preds = []\n",
        "for index, item in enumerate(tqdm(test_loader)):\n",
        "  img = item['image'].cuda()\n",
        "  mask = item['mask'].cuda()\n",
        "  ids = item['ids'].cuda()          \n",
        "  \n",
        "  if CONFIG[\"normalize_embeddings\"]:\n",
        "    image_outputs = normalize(best_image_model(img)).cpu().detach().numpy()\n",
        "  else:\n",
        "    image_outputs = best_image_model(img).cpu().detach().numpy()\n",
        "  _, retrieved_ids = caption_retriever.kneighbors(image_outputs, n_neighbors=relevant_k)\n",
        "  preds.extend(retrieved_ids)"
      ]
    },
    {
      "cell_type": "code",
      "execution_count": null,
      "metadata": {
        "id": "CDJhjf23xvsZ"
      },
      "outputs": [],
      "source": [
        "targets = list(range(len(preds)))"
      ]
    },
    {
      "cell_type": "markdown",
      "metadata": {
        "id": "vkqkhpo6owRO"
      },
      "source": [
        "### Top1 Accuracy"
      ]
    },
    {
      "cell_type": "code",
      "execution_count": null,
      "metadata": {
        "id": "3rzkrE6Y702c"
      },
      "outputs": [],
      "source": [
        "from sklearn.metrics import accuracy_score"
      ]
    },
    {
      "cell_type": "code",
      "execution_count": null,
      "metadata": {
        "id": "8b9d-yEa73Zv"
      },
      "outputs": [],
      "source": [
        "accuracy_score([pred[0] for pred in preds], targets)"
      ]
    },
    {
      "cell_type": "markdown",
      "metadata": {
        "id": "52pTmS5go7lp"
      },
      "source": [
        "### Topk Accuracy"
      ]
    },
    {
      "cell_type": "code",
      "execution_count": null,
      "metadata": {
        "id": "MfTIVbS174-I"
      },
      "outputs": [],
      "source": [
        "desired_k = 5"
      ]
    },
    {
      "cell_type": "code",
      "execution_count": null,
      "metadata": {
        "id": "Fcg3ZirHVkqc"
      },
      "outputs": [],
      "source": [
        "count = 0\n",
        "for i in range(len(preds)):\n",
        "  true = targets[i]\n",
        "  if true in preds[i][:desired_k]:\n",
        "    count += 1\n",
        "\n",
        "print(count / len(preds))"
      ]
    },
    {
      "cell_type": "code",
      "execution_count": null,
      "metadata": {
        "id": "bTvXolOKg6TW"
      },
      "outputs": [],
      "source": [
        ""
      ]
    }
  ],
  "metadata": {
    "accelerator": "GPU",
    "colab": {
      "collapsed_sections": [],
      "name": "main.ipynb",
      "provenance": [],
      "include_colab_link": true
    },
    "kernelspec": {
      "display_name": "Python 3",
      "name": "python3"
    },
    "language_info": {
      "name": "python"
    }
  },
  "nbformat": 4,
  "nbformat_minor": 0
}