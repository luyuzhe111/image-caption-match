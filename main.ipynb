{
  "nbformat": 4,
  "nbformat_minor": 0,
  "metadata": {
    "colab": {
      "name": "main.ipynb",
      "provenance": [],
      "collapsed_sections": [
        "8OENiT24ZPD4",
        "ypo2ZP7q-o_A",
        "ME7h3Zj5SrjU",
        "1gAKHa6CfmJ1",
        "E5hI8kQaZhgF",
        "AD20LuByZ2-B"
      ],
      "include_colab_link": true
    },
    "kernelspec": {
      "display_name": "Python 3",
      "name": "python3"
    },
    "language_info": {
      "name": "python"
    },
    "accelerator": "GPU"
  },
  "cells": [
    {
      "cell_type": "markdown",
      "metadata": {
        "id": "view-in-github",
        "colab_type": "text"
      },
      "source": [
        "<a href=\"https://colab.research.google.com/github/luyuzhe111/image-caption-match/blob/main/main.ipynb\" target=\"_parent\"><img src=\"https://colab.research.google.com/assets/colab-badge.svg\" alt=\"Open In Colab\"/></a>"
      ]
    },
    {
      "cell_type": "code",
      "metadata": {
        "colab": {
          "base_uri": "https://localhost:8080/"
        },
        "id": "i7VL_cb9YIFm",
        "outputId": "65ede9a6-29e9-4eb0-9376-9e20a60d63e8"
      },
      "source": [
        "from google.colab import drive\n",
        "drive.mount('/content/drive')"
      ],
      "execution_count": 1,
      "outputs": [
        {
          "output_type": "stream",
          "name": "stdout",
          "text": [
            "Drive already mounted at /content/drive; to attempt to forcibly remount, call drive.mount(\"/content/drive\", force_remount=True).\n"
          ]
        }
      ]
    },
    {
      "cell_type": "code",
      "metadata": {
        "id": "64P31INAXzq2"
      },
      "source": [
        "import os"
      ],
      "execution_count": 2,
      "outputs": []
    },
    {
      "cell_type": "code",
      "metadata": {
        "id": "9GVxRe8GX_BT"
      },
      "source": [
        "os.chdir('/content/drive/MyDrive/kaggle/wikipedia')"
      ],
      "execution_count": 3,
      "outputs": []
    },
    {
      "cell_type": "code",
      "metadata": {
        "id": "dF3OfFHPYDzl"
      },
      "source": [
        "import pandas as pd\n",
        "from tqdm import tqdm"
      ],
      "execution_count": 4,
      "outputs": []
    },
    {
      "cell_type": "markdown",
      "metadata": {
        "id": "8OENiT24ZPD4"
      },
      "source": [
        "# Import packages"
      ]
    },
    {
      "cell_type": "code",
      "metadata": {
        "id": "KDwS9F2GZcqB"
      },
      "source": [
        "! pip install -q albumentations==0.4.6"
      ],
      "execution_count": 5,
      "outputs": []
    },
    {
      "cell_type": "code",
      "metadata": {
        "colab": {
          "base_uri": "https://localhost:8080/"
        },
        "id": "zWSvtDspHO2n",
        "outputId": "14a39520-2b9b-485f-87d4-a312c827cfaf"
      },
      "source": [
        "! pip install cairosvg"
      ],
      "execution_count": 6,
      "outputs": [
        {
          "output_type": "stream",
          "name": "stdout",
          "text": [
            "Requirement already satisfied: cairosvg in /usr/local/lib/python3.7/dist-packages (2.5.2)\n",
            "Requirement already satisfied: cssselect2 in /usr/local/lib/python3.7/dist-packages (from cairosvg) (0.4.1)\n",
            "Requirement already satisfied: cairocffi in /usr/local/lib/python3.7/dist-packages (from cairosvg) (1.3.0)\n",
            "Requirement already satisfied: pillow in /usr/local/lib/python3.7/dist-packages (from cairosvg) (7.1.2)\n",
            "Requirement already satisfied: defusedxml in /usr/local/lib/python3.7/dist-packages (from cairosvg) (0.7.1)\n",
            "Requirement already satisfied: tinycss2 in /usr/local/lib/python3.7/dist-packages (from cairosvg) (1.1.1)\n",
            "Requirement already satisfied: cffi>=1.1.0 in /usr/local/lib/python3.7/dist-packages (from cairocffi->cairosvg) (1.15.0)\n",
            "Requirement already satisfied: pycparser in /usr/local/lib/python3.7/dist-packages (from cffi>=1.1.0->cairocffi->cairosvg) (2.21)\n",
            "Requirement already satisfied: webencodings in /usr/local/lib/python3.7/dist-packages (from cssselect2->cairosvg) (0.5.1)\n"
          ]
        }
      ]
    },
    {
      "cell_type": "code",
      "metadata": {
        "colab": {
          "base_uri": "https://localhost:8080/"
        },
        "id": "_1aj6-Y_Zctq",
        "outputId": "78ae3f1d-6895-4982-c604-00544b9bc25d"
      },
      "source": [
        "! pip install transformers"
      ],
      "execution_count": 7,
      "outputs": [
        {
          "output_type": "stream",
          "name": "stdout",
          "text": [
            "Requirement already satisfied: transformers in /usr/local/lib/python3.7/dist-packages (4.12.5)\n",
            "Requirement already satisfied: filelock in /usr/local/lib/python3.7/dist-packages (from transformers) (3.4.0)\n",
            "Requirement already satisfied: sacremoses in /usr/local/lib/python3.7/dist-packages (from transformers) (0.0.46)\n",
            "Requirement already satisfied: packaging>=20.0 in /usr/local/lib/python3.7/dist-packages (from transformers) (21.3)\n",
            "Requirement already satisfied: tokenizers<0.11,>=0.10.1 in /usr/local/lib/python3.7/dist-packages (from transformers) (0.10.3)\n",
            "Requirement already satisfied: regex!=2019.12.17 in /usr/local/lib/python3.7/dist-packages (from transformers) (2019.12.20)\n",
            "Requirement already satisfied: requests in /usr/local/lib/python3.7/dist-packages (from transformers) (2.23.0)\n",
            "Requirement already satisfied: pyyaml>=5.1 in /usr/local/lib/python3.7/dist-packages (from transformers) (6.0)\n",
            "Requirement already satisfied: importlib-metadata in /usr/local/lib/python3.7/dist-packages (from transformers) (4.8.2)\n",
            "Requirement already satisfied: numpy>=1.17 in /usr/local/lib/python3.7/dist-packages (from transformers) (1.19.5)\n",
            "Requirement already satisfied: huggingface-hub<1.0,>=0.1.0 in /usr/local/lib/python3.7/dist-packages (from transformers) (0.2.0)\n",
            "Requirement already satisfied: tqdm>=4.27 in /usr/local/lib/python3.7/dist-packages (from transformers) (4.62.3)\n",
            "Requirement already satisfied: typing-extensions>=3.7.4.3 in /usr/local/lib/python3.7/dist-packages (from huggingface-hub<1.0,>=0.1.0->transformers) (3.10.0.2)\n",
            "Requirement already satisfied: pyparsing!=3.0.5,>=2.0.2 in /usr/local/lib/python3.7/dist-packages (from packaging>=20.0->transformers) (3.0.6)\n",
            "Requirement already satisfied: zipp>=0.5 in /usr/local/lib/python3.7/dist-packages (from importlib-metadata->transformers) (3.6.0)\n",
            "Requirement already satisfied: certifi>=2017.4.17 in /usr/local/lib/python3.7/dist-packages (from requests->transformers) (2021.10.8)\n",
            "Requirement already satisfied: idna<3,>=2.5 in /usr/local/lib/python3.7/dist-packages (from requests->transformers) (2.10)\n",
            "Requirement already satisfied: chardet<4,>=3.0.2 in /usr/local/lib/python3.7/dist-packages (from requests->transformers) (3.0.4)\n",
            "Requirement already satisfied: urllib3!=1.25.0,!=1.25.1,<1.26,>=1.21.1 in /usr/local/lib/python3.7/dist-packages (from requests->transformers) (1.24.3)\n",
            "Requirement already satisfied: joblib in /usr/local/lib/python3.7/dist-packages (from sacremoses->transformers) (1.1.0)\n",
            "Requirement already satisfied: six in /usr/local/lib/python3.7/dist-packages (from sacremoses->transformers) (1.15.0)\n",
            "Requirement already satisfied: click in /usr/local/lib/python3.7/dist-packages (from sacremoses->transformers) (7.1.2)\n"
          ]
        }
      ]
    },
    {
      "cell_type": "code",
      "metadata": {
        "id": "LOLZfZ-zZSkA"
      },
      "source": [
        "import glob\n",
        "import gc\n",
        "gc.enable()\n",
        "import multiprocessing\n",
        "import cv2\n",
        "import copy\n",
        "import time\n",
        "import random\n",
        "from PIL import Image\n",
        "from PIL import ImageFile\n",
        "\n",
        "import base64\n",
        "import pickle\n",
        "\n",
        "# fold\n",
        "from sklearn.model_selection import StratifiedKFold\n",
        "\n",
        "# For downloading images\n",
        "from io import BytesIO\n",
        "\n",
        "# For data manipulation\n",
        "import numpy as np\n",
        "import pandas as pd\n",
        "from numpy import asarray\n",
        "\n",
        "# Pytorch Imports\n",
        "import torch\n",
        "import torch.nn as nn\n",
        "import torch.optim as optim\n",
        "from torch.optim import lr_scheduler\n",
        "from torch.utils.data import Dataset, DataLoader\n",
        "from torch.cuda import amp\n",
        "import torchvision\n",
        "\n",
        "\n",
        "# Utils\n",
        "import joblib\n",
        "from tqdm import tqdm\n",
        "from collections import defaultdict\n",
        "\n",
        "# Sklearn Imports\n",
        "from sklearn.metrics import mean_squared_error\n",
        "from sklearn.model_selection import StratifiedKFold, KFold\n",
        "\n",
        "# For Image Models\n",
        "# import timm\n",
        "\n",
        "# For Transformer Models\n",
        "from transformers import AutoTokenizer, AutoModel\n",
        "from transformers import BertTokenizer, BertModel, BertConfig\n",
        "\n",
        "import torchvision.transforms as transforms\n",
        "\n",
        "import warnings\n",
        "warnings.filterwarnings(\"ignore\")\n"
      ],
      "execution_count": 8,
      "outputs": []
    },
    {
      "cell_type": "markdown",
      "metadata": {
        "id": "ypo2ZP7q-o_A"
      },
      "source": [
        "# Load data"
      ]
    },
    {
      "cell_type": "code",
      "metadata": {
        "id": "fnZOZlxxYPIB"
      },
      "source": [
        "# load data from input files\n",
        "df_train = pd.read_feather('./train-subsample.feather')\n",
        "df_valid = pd.read_feather('./valid-subsample.feather')\n",
        "df_test = pd.read_feather('./valid-subsample.feather')"
      ],
      "execution_count": 64,
      "outputs": []
    },
    {
      "cell_type": "code",
      "metadata": {
        "colab": {
          "base_uri": "https://localhost:8080/",
          "height": 230
        },
        "id": "W447hUeTYYnm",
        "outputId": "62322fa7-3acc-4896-c8b8-0531d0fecbe9"
      },
      "source": [
        "df_train.head(3)"
      ],
      "execution_count": 65,
      "outputs": [
        {
          "output_type": "execute_result",
          "data": {
            "text/html": [
              "<div>\n",
              "<style scoped>\n",
              "    .dataframe tbody tr th:only-of-type {\n",
              "        vertical-align: middle;\n",
              "    }\n",
              "\n",
              "    .dataframe tbody tr th {\n",
              "        vertical-align: top;\n",
              "    }\n",
              "\n",
              "    .dataframe thead th {\n",
              "        text-align: right;\n",
              "    }\n",
              "</style>\n",
              "<table border=\"1\" class=\"dataframe\">\n",
              "  <thead>\n",
              "    <tr style=\"text-align: right;\">\n",
              "      <th></th>\n",
              "      <th>language</th>\n",
              "      <th>image_url</th>\n",
              "      <th>caption_title_and_reference_description</th>\n",
              "      <th>page_title</th>\n",
              "      <th>path</th>\n",
              "    </tr>\n",
              "  </thead>\n",
              "  <tbody>\n",
              "    <tr>\n",
              "      <th>0</th>\n",
              "      <td>fr</td>\n",
              "      <td>https://upload.wikimedia.org/wikipedia/commons...</td>\n",
              "      <td>Sacramentaire de Tyniec [SEP] Page du Vere dig...</td>\n",
              "      <td>Sacramentaire de Tyniec</td>\n",
              "      <td>./images/images0/fr/12214.jpg</td>\n",
              "    </tr>\n",
              "    <tr>\n",
              "      <th>1</th>\n",
              "      <td>fr</td>\n",
              "      <td>https://upload.wikimedia.org/wikipedia/commons...</td>\n",
              "      <td>Voïvodie des Basses-Carpates [SEP]</td>\n",
              "      <td>Voïvodie des Basses-Carpates</td>\n",
              "      <td>./images/images2/fr/52498.jpg</td>\n",
              "    </tr>\n",
              "    <tr>\n",
              "      <th>2</th>\n",
              "      <td>sk</td>\n",
              "      <td>http://upload.wikimedia.org/wikipedia/commons/...</td>\n",
              "      <td>Edubuntu [SEP] Edubuntu 7.04 - Gaim a napaľovanie</td>\n",
              "      <td>Edubuntu</td>\n",
              "      <td>./images/images0/sk/13737.jpg</td>\n",
              "    </tr>\n",
              "  </tbody>\n",
              "</table>\n",
              "</div>"
            ],
            "text/plain": [
              "  language  ...                           path\n",
              "0       fr  ...  ./images/images0/fr/12214.jpg\n",
              "1       fr  ...  ./images/images2/fr/52498.jpg\n",
              "2       sk  ...  ./images/images0/sk/13737.jpg\n",
              "\n",
              "[3 rows x 5 columns]"
            ]
          },
          "metadata": {},
          "execution_count": 65
        }
      ]
    },
    {
      "cell_type": "code",
      "metadata": {
        "colab": {
          "base_uri": "https://localhost:8080/"
        },
        "id": "ntBSSaxJHzBy",
        "outputId": "581228dc-637b-4b67-90d7-3227be1f96d2"
      },
      "source": [
        "print(f'size of the train/val/test dataset: {len(df_train)}, {len(df_valid)}, {len(df_test)}')"
      ],
      "execution_count": 67,
      "outputs": [
        {
          "output_type": "stream",
          "name": "stdout",
          "text": [
            "size of the train/val/test dataset: 79346, 9918, 9918\n"
          ]
        }
      ]
    },
    {
      "cell_type": "markdown",
      "metadata": {
        "id": "1BR48HHObVOg"
      },
      "source": [
        "# Set up\n"
      ]
    },
    {
      "cell_type": "markdown",
      "metadata": {
        "id": "ME7h3Zj5SrjU"
      },
      "source": [
        "## config"
      ]
    },
    {
      "cell_type": "code",
      "metadata": {
        "id": "TdhVHJ8pbX9u"
      },
      "source": [
        "def optimal_num_of_loader_workers():\n",
        "    num_cpus = multiprocessing.cpu_count()\n",
        "    num_gpus = torch.cuda.device_count()\n",
        "    optimal_value = min(num_cpus, num_gpus*4) if num_gpus else num_cpus - 1\n",
        "    return optimal_value"
      ],
      "execution_count": 12,
      "outputs": []
    },
    {
      "cell_type": "code",
      "metadata": {
        "id": "K3VmBHXtZCd6"
      },
      "source": [
        "CONFIG = {\n",
        "    \"seed\": 2021,\n",
        "    \"epochs\": 5,#20,\n",
        "    'nfolds':5,\n",
        "    \n",
        "    \"img_size\": 224,\n",
        "    \"text_model_name\": \"xlm-roberta-base\",\n",
        "    \n",
        "    \"embedding_size\": 256,\n",
        "    \"train_batch_size\": 64,\n",
        "    \"valid_batch_size\": 64,\n",
        "    \"learning_rate\": 1e-5,\n",
        "    \"scheduler\": 'CosineAnnealingLR',\n",
        "    \"min_lr\": 1e-6,\n",
        "    'num_workers':4,\n",
        "    \n",
        "    \"T_max\": 500,\n",
        "    \"weight_decay\": 1e-6,\n",
        "    \"max_length\": 32,\n",
        "    \n",
        "    \"n_accumulate\": 1,\n",
        "}\n",
        "\n",
        "CONFIG[\"tokenizer\"] = AutoTokenizer.from_pretrained(CONFIG['text_model_name'])"
      ],
      "execution_count": 60,
      "outputs": []
    },
    {
      "cell_type": "code",
      "metadata": {
        "id": "GLVnTEbcbatZ"
      },
      "source": [
        "def set_seed(seed=42):\n",
        "    '''Sets the seed of the entire notebook so results are the same every time we run.\n",
        "    This is for REPRODUCIBILITY.'''\n",
        "    np.random.seed(seed)\n",
        "    torch.manual_seed(seed)\n",
        "    torch.cuda.manual_seed(seed)\n",
        "    # When running on the CuDNN backend, two further options must be set\n",
        "    torch.backends.cudnn.deterministic = True\n",
        "    torch.backends.cudnn.benchmark = False\n",
        "    # Set a fixed value for the hash seed\n",
        "    os.environ['PYTHONHASHSEED'] = str(seed)\n",
        "    \n",
        "set_seed(CONFIG['seed'])"
      ],
      "execution_count": 14,
      "outputs": []
    },
    {
      "cell_type": "markdown",
      "metadata": {
        "id": "leBuCQj0cAxD"
      },
      "source": [
        "## transform set up"
      ]
    },
    {
      "cell_type": "code",
      "metadata": {
        "id": "ackUsO-Vb1ai"
      },
      "source": [
        "data_transforms = {\n",
        "    \"train\": transforms.Compose([\n",
        "        transforms.ToTensor(),\n",
        "        transforms.Normalize((0.485, 0.456, 0.406), (0.229, 0.224, 0.225)),\n",
        "    ]),\n",
        "    \n",
        "    \"valid\": transforms.Compose([\n",
        "        transforms.ToTensor(),\n",
        "        transforms.Normalize((0.485, 0.456, 0.406), (0.229, 0.224, 0.225)),\n",
        "    ])\n",
        "}"
      ],
      "execution_count": 15,
      "outputs": []
    },
    {
      "cell_type": "markdown",
      "metadata": {
        "id": "is8AJPIJb2Vv"
      },
      "source": [
        "## helper to load image"
      ]
    },
    {
      "cell_type": "code",
      "metadata": {
        "id": "rojjhDyogBXZ"
      },
      "source": [
        "def load_img(dir):\n",
        "  image = Image.open(dir)\n",
        "  return asarray(image)"
      ],
      "execution_count": 16,
      "outputs": []
    },
    {
      "cell_type": "markdown",
      "metadata": {
        "id": "1gAKHa6CfmJ1"
      },
      "source": [
        "# Dataset"
      ]
    },
    {
      "cell_type": "code",
      "metadata": {
        "id": "yRmiGA6Gb1cx"
      },
      "source": [
        "class WikipediaDataset(Dataset):\n",
        "    def __init__(self, data, tokenizer, max_length, transforms=None):\n",
        "        self.data = data.reset_index(drop=True)\n",
        "        self.max_len = max_length\n",
        "        self.tokenizer = tokenizer\n",
        "        self.transforms = transforms\n",
        "        \n",
        "    def __len__(self):\n",
        "        return len(self.data)\n",
        "    \n",
        "    def __getitem__(self, index):\n",
        "        img = load_img(self.data.at[index, \"path\"])\n",
        "        if self.transforms:\n",
        "          img = self.transforms(img)\n",
        "        \n",
        "        caption = self.data.at[index, \"caption_title_and_reference_description\"]\n",
        "        caption = caption.replace(\"[SEP]\", \"</s>\") # sep token for xlm-roberta\n",
        "        inputs = self.tokenizer.encode_plus(\n",
        "            caption,\n",
        "            truncation=True,\n",
        "            add_special_tokens=True,\n",
        "            max_length=self.max_len,\n",
        "            padding='max_length'\n",
        "        )\n",
        "        \n",
        "        ids = inputs['input_ids']\n",
        "        mask = inputs['attention_mask']\n",
        "       \n",
        "        return {\n",
        "            'ids': torch.tensor(ids, dtype=torch.long),\n",
        "            'mask': torch.tensor(mask, dtype=torch.long),\n",
        "            'image': img\n",
        "        }"
      ],
      "execution_count": 17,
      "outputs": []
    },
    {
      "cell_type": "markdown",
      "metadata": {
        "id": "jQn36Z0scpcm"
      },
      "source": [
        "# Dataloader"
      ]
    },
    {
      "cell_type": "code",
      "metadata": {
        "id": "jj-EBq7-b1jl"
      },
      "source": [
        "train_dataset = WikipediaDataset(df_train, CONFIG[\"tokenizer\"], CONFIG[\"max_length\"], transforms=data_transforms[\"train\"])\n",
        "train_loader = DataLoader(train_dataset, batch_size=CONFIG['train_batch_size'], num_workers=CONFIG['num_workers'], shuffle=True, pin_memory=True)\n",
        "\n",
        "valid_dataset = WikipediaDataset(df_valid, CONFIG[\"tokenizer\"], CONFIG[\"max_length\"], transforms=data_transforms[\"train\"])\n",
        "valid_loader = DataLoader(valid_dataset, batch_size=CONFIG['valid_batch_size'], num_workers=CONFIG['num_workers'], shuffle=False, pin_memory=True)\n",
        "\n",
        "test_dataset = WikipediaDataset(df_test, CONFIG[\"tokenizer\"], CONFIG[\"max_length\"], transforms=data_transforms[\"train\"])\n",
        "test_loader = DataLoader(test_dataset, batch_size=CONFIG['valid_batch_size'], num_workers=CONFIG['num_workers'], shuffle=False, pin_memory=True)"
      ],
      "execution_count": 68,
      "outputs": []
    },
    {
      "cell_type": "markdown",
      "metadata": {
        "id": "E5hI8kQaZhgF"
      },
      "source": [
        "# Image model"
      ]
    },
    {
      "cell_type": "code",
      "metadata": {
        "id": "JRjGUB-Sb1mP"
      },
      "source": [
        "from torchvision.models import resnet50"
      ],
      "execution_count": 19,
      "outputs": []
    },
    {
      "cell_type": "code",
      "metadata": {
        "id": "sbvQNzKSvXAK"
      },
      "source": [
        "class ImageFeatureExtractor(nn.Module):\n",
        "    def __init__(self, projector=[2048, 512, 64, 8], pool='gem-1'):\n",
        "        super(ImageFeatureExtractor, self).__init__()\n",
        "        model = resnet50(pretrained=True)\n",
        "        modules = nn.ModuleList(model.children())[:-2]\n",
        "        self.features = nn.Sequential(*modules)\n",
        "\n",
        "        arch=[]\n",
        "        for i in range(1,len(projector)):\n",
        "            arch.append(nn.Linear(projector[i-1], projector[i]))\n",
        "            if i!=len(projector)-1:\n",
        "                arch.append(nn.ReLU())\n",
        "        \n",
        "        self.projector=nn.Sequential(*arch)\n",
        "        self.pool = pool\n",
        "\n",
        "    def forward(self, inputs):\n",
        "        output = self.features(inputs)\n",
        "        output = torch.flatten(output, start_dim=-2)\n",
        "        if self.pool == 'gem-1':\n",
        "          output = output.mean(-1)\n",
        "        elif self.pool == 'gem-2':\n",
        "          output = torch.pow((output ** 2).mean(-1), 1/2)\n",
        "        output = self.projector(output)\n",
        "        return output"
      ],
      "execution_count": 36,
      "outputs": []
    },
    {
      "cell_type": "code",
      "metadata": {
        "id": "0XLvuWMub1oi"
      },
      "source": [
        "projector = [2048, 512, 128, 32]\n",
        "image_model = ImageFeatureExtractor(projector=projector).cuda()\n",
        "for name, p in image_model.named_parameters():\n",
        "  if 'features' in name:\n",
        "    p.requires_grad = False"
      ],
      "execution_count": 61,
      "outputs": []
    },
    {
      "cell_type": "markdown",
      "metadata": {
        "id": "AD20LuByZ2-B"
      },
      "source": [
        "# Text model"
      ]
    },
    {
      "cell_type": "code",
      "metadata": {
        "id": "H5PRdagGOJvq"
      },
      "source": [
        "class TextExtractorModel(nn.Module):\n",
        "    def __init__(self, text_model, projector=[748, 96, 32]):\n",
        "        super(TextExtractorModel, self).__init__()\n",
        "        self.text_model = AutoModel.from_pretrained(text_model)\n",
        "\n",
        "        arch=[]\n",
        "        for i in range(1,len(projector)):\n",
        "            arch.append(nn.Linear(projector[i-1], projector[i]))\n",
        "            if i!=len(projector)-1:\n",
        "                arch.append(nn.ReLU())\n",
        "        \n",
        "        self.projector=nn.Sequential(*arch)\n",
        "        self.init_weights(self.projector)\n",
        "        \n",
        "    def init_weights(self, m):\n",
        "        if type(m) == torch.nn.Linear:\n",
        "            torch.nn.init.xavier_uniform_(m.weight)\n",
        "            m.bias.data.fill_(0)\n",
        "            \n",
        "    def forward(self, ids, mask):\n",
        "        out = self.text_model(input_ids=ids, attention_mask=mask, output_hidden_states=False)[1]\n",
        "        text_embeddings = self.projector(out)\n",
        "        return text_embeddings"
      ],
      "execution_count": 62,
      "outputs": []
    },
    {
      "cell_type": "code",
      "metadata": {
        "colab": {
          "base_uri": "https://localhost:8080/"
        },
        "id": "s7Wl7BNPPsWd",
        "outputId": "7242799b-3e37-4b4b-e2bf-74c7b8fdf85a"
      },
      "source": [
        "projector=[748, 96, 32]\n",
        "text_model = TextExtractorModel(CONFIG['text_model_name'], projector=projector).cuda()\n",
        "for name, p in text_model.named_parameters():\n",
        "  if 'text_model' in name:\n",
        "    p.requires_grad = False"
      ],
      "execution_count": 63,
      "outputs": [
        {
          "output_type": "stream",
          "name": "stderr",
          "text": [
            "Some weights of the model checkpoint at xlm-roberta-base were not used when initializing XLMRobertaModel: ['lm_head.decoder.weight', 'lm_head.layer_norm.bias', 'lm_head.bias', 'lm_head.layer_norm.weight', 'lm_head.dense.weight', 'lm_head.dense.bias']\n",
            "- This IS expected if you are initializing XLMRobertaModel from the checkpoint of a model trained on another task or with another architecture (e.g. initializing a BertForSequenceClassification model from a BertForPreTraining model).\n",
            "- This IS NOT expected if you are initializing XLMRobertaModel from the checkpoint of a model that you expect to be exactly identical (initializing a BertForSequenceClassification model from a BertForSequenceClassification model).\n"
          ]
        }
      ]
    },
    {
      "cell_type": "markdown",
      "metadata": {
        "id": "mTWCE5MgabvB"
      },
      "source": [
        "# Optimizer"
      ]
    },
    {
      "cell_type": "code",
      "metadata": {
        "id": "oqtyjQgxS75M"
      },
      "source": [
        "optimizer = optim.Adam([\n",
        "                {'params': image_model.parameters()},\n",
        "                {'params': text_model.parameters()}\n",
        "            ], lr=CONFIG['learning_rate'], weight_decay=CONFIG['weight_decay'], betas=(0.9, 0.999), amsgrad=True)"
      ],
      "execution_count": 51,
      "outputs": []
    },
    {
      "cell_type": "markdown",
      "metadata": {
        "id": "mvVKVRHVadp3"
      },
      "source": [
        "# Loss function"
      ]
    },
    {
      "cell_type": "code",
      "metadata": {
        "id": "s1mAWIZKTD6R"
      },
      "source": [
        "class Loss(nn.Module):\n",
        "    def __init__(self, eps=1e-6):\n",
        "        super().__init__()\n",
        "        self.cosine = nn.CosineEmbeddingLoss()\n",
        "        \n",
        "    def forward(self, inputs, targets):\n",
        "        c_loss = self.cosine(inputs, targets, torch.ones(inputs.size(0)).cuda())\n",
        "        return c_loss"
      ],
      "execution_count": 52,
      "outputs": []
    },
    {
      "cell_type": "code",
      "metadata": {
        "id": "SFQWe2G4TbCd"
      },
      "source": [
        "criterion = Loss()"
      ],
      "execution_count": 53,
      "outputs": []
    },
    {
      "cell_type": "code",
      "metadata": {
        "id": "cFl2QtBbb1qw",
        "colab": {
          "base_uri": "https://localhost:8080/"
        },
        "outputId": "c629fbdc-03ac-4890-9c69-cf5d359b4a75"
      },
      "source": [
        "losses = []\n",
        "for index, item in enumerate(tqdm(train_loader)):\n",
        "  break\n",
        "  optimizer.zero_grad()\n",
        "  img = item['image'].cuda()\n",
        "  mask = item['mask'].cuda()\n",
        "  ids = item['ids'].cuda()          \n",
        "  \n",
        "  image_outputs = image_model(img)\n",
        "  text_outputs = text_model(ids, mask)\n",
        "\n",
        "  loss = criterion(image_outputs, text_outputs)\n",
        "  loss.backward()\n",
        "  optimizer.step()\n",
        "\n",
        "  losses.append(loss)"
      ],
      "execution_count": 69,
      "outputs": [
        {
          "output_type": "stream",
          "name": "stderr",
          "text": [
            "  0%|          | 0/1240 [01:27<?, ?it/s]\n"
          ]
        }
      ]
    },
    {
      "cell_type": "code",
      "metadata": {
        "id": "YMpTACDGUkIE"
      },
      "source": [
        "import matplotlib.pyplot as plt"
      ],
      "execution_count": 58,
      "outputs": []
    },
    {
      "cell_type": "code",
      "metadata": {
        "colab": {
          "base_uri": "https://localhost:8080/",
          "height": 265
        },
        "id": "LzDgUlLd90X1",
        "outputId": "1a5e34ca-de0a-41c1-8b6e-6608af22dc9d"
      },
      "source": [
        "plt.plot(range(len(losses)), losses)\n",
        "plt.show()"
      ],
      "execution_count": 59,
      "outputs": [
        {
          "output_type": "display_data",
          "data": {
            "image/png": "[encoded data removed]",
            "text/plain": [
              "<Figure size 432x288 with 1 Axes>"
            ]
          },
          "metadata": {
            "needs_background": "light"
          }
        }
      ]
    },
    {
      "cell_type": "code",
      "metadata": {
        "id": "mNOQ-gRQUtxT"
      },
      "source": [
        ""
      ],
      "execution_count": null,
      "outputs": []
    }
  ]
}