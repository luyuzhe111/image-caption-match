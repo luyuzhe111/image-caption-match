{
  "nbformat": 4,
  "nbformat_minor": 0,
  "metadata": {
    "colab": {
      "name": "exploratory-data-analysis",
      "provenance": [],
      "machine_shape": "hm",
      "include_colab_link": true
    },
    "kernelspec": {
      "name": "python3",
      "display_name": "Python 3"
    },
    "language_info": {
      "name": "python"
    },
    "accelerator": "TPU"
  },
  "cells": [
    {
      "cell_type": "markdown",
      "metadata": {
        "id": "view-in-github",
        "colab_type": "text"
      },
      "source": [
        "<a href=\"https://colab.research.google.com/github/luyuzhe111/image-caption-match/blob/main/exploratory_data_analysis.ipynb\" target=\"_parent\"><img src=\"https://colab.research.google.com/assets/colab-badge.svg\" alt=\"Open In Colab\"/></a>"
      ]
    },
    {
      "cell_type": "code",
      "metadata": {
        "colab": {
          "base_uri": "https://localhost:8080/"
        },
        "id": "pQlGvQ7toYTu",
        "outputId": "2c9a2abb-0b96-4734-9f80-2b4c7281473c"
      },
      "source": [
        "from google.colab import drive\n",
        "drive.mount('/content/drive')"
      ],
      "execution_count": 1,
      "outputs": [
        {
          "output_type": "stream",
          "name": "stdout",
          "text": [
            "Drive already mounted at /content/drive; to attempt to forcibly remount, call drive.mount(\"/content/drive\", force_remount=True).\n"
          ]
        }
      ]
    },
    {
      "cell_type": "code",
      "metadata": {
        "id": "3oDnMUDeok8g"
      },
      "source": [
        "import os"
      ],
      "execution_count": 2,
      "outputs": []
    },
    {
      "cell_type": "code",
      "metadata": {
        "id": "18o0_l4Pow6U"
      },
      "source": [
        "os.chdir('/content/drive/MyDrive/kaggle/wikipedia')"
      ],
      "execution_count": 3,
      "outputs": []
    },
    {
      "cell_type": "code",
      "metadata": {
        "id": "YpKYGXXUpGfW"
      },
      "source": [
        "import pandas as pd\n",
        "from tqdm import tqdm"
      ],
      "execution_count": 4,
      "outputs": []
    },
    {
      "cell_type": "markdown",
      "metadata": {
        "id": "K4DFAgpxLKdZ"
      },
      "source": [
        "### Convert to feather file"
      ]
    },
    {
      "cell_type": "code",
      "metadata": {
        "colab": {
          "base_uri": "https://localhost:8080/"
        },
        "id": "6sn2y-iaLHSe",
        "outputId": "6e0ec606-47ab-43fe-bffc-f67a77635908"
      },
      "source": [
        "columns = ['language', 'image_url', 'caption_title_and_reference_description']\n",
        "for i in tqdm(range(0, 5)):\n",
        "  fname = f'train-0000{i}-of-00005.tsv'\n",
        "  fname_feather = fname.replace('tsv', 'feather')\n",
        "  if not os.path.exists(fname_feather):\n",
        "    df = pd.read_csv(fname, sep='\\t')\n",
        "    df = df[columns]\n",
        "    df.to_feather()"
      ],
      "execution_count": 5,
      "outputs": [
        {
          "output_type": "stream",
          "name": "stderr",
          "text": [
            "100%|██████████| 5/5 [00:00<00:00, 6535.22it/s]\n"
          ]
        }
      ]
    },
    {
      "cell_type": "markdown",
      "metadata": {
        "id": "ha-RSJ6pLg-d"
      },
      "source": [
        "### Data cleaning"
      ]
    },
    {
      "cell_type": "code",
      "metadata": {
        "colab": {
          "base_uri": "https://localhost:8080/"
        },
        "id": "4b2T3vWNHMmi",
        "outputId": "7308b486-a02c-4657-bc70-ab08b2e38979"
      },
      "source": [
        "for i in tqdm(range(0, 5)):\n",
        "  fname = f'train-0000{i}-of-00005.feather'\n",
        "  fname_unique = fname.split('.')[0] + '-unique.feather'\n",
        "  if not os.path.exists(fname_unique):\n",
        "    df = pd.read_feather(fname)\n",
        "    print('\\noriginal df shape:', df.shape)\n",
        "    df_unique = df.drop_duplicates()\n",
        "    print('after drop duplicates shape:', df_unique.shape)\n",
        "    df_unique.dropna(axis=0)\n",
        "    print('after drop null shape:', df_unique.shape)\n",
        "    df_unique = df_unique.reset_index(drop = True)\n",
        "    df_unique.to_feather(fname_unique)"
      ],
      "execution_count": 6,
      "outputs": [
        {
          "output_type": "stream",
          "name": "stderr",
          "text": [
            "100%|██████████| 5/5 [00:00<00:00, 5444.32it/s]\n"
          ]
        }
      ]
    },
    {
      "cell_type": "markdown",
      "metadata": {
        "id": "D75Yh_QoPrZC"
      },
      "source": [
        "### Load all data"
      ]
    },
    {
      "cell_type": "code",
      "metadata": {
        "colab": {
          "base_uri": "https://localhost:8080/"
        },
        "id": "-7GgpvaoHodN",
        "outputId": "f257b9bf-7a74-4a6d-9390-417e72149268"
      },
      "source": [
        "df_lst = []\n",
        "for i in tqdm(range(0, 5)):\n",
        "  fname = f'train-0000{i}-of-00005-unique.feather'\n",
        "  df = pd.read_feather(fname)\n",
        "  df_lst.append(df)\n",
        "\n",
        "df = pd.concat(df_lst)"
      ],
      "execution_count": 7,
      "outputs": [
        {
          "output_type": "stream",
          "name": "stderr",
          "text": [
            "100%|██████████| 5/5 [00:48<00:00,  9.68s/it]\n"
          ]
        }
      ]
    },
    {
      "cell_type": "code",
      "metadata": {
        "colab": {
          "base_uri": "https://localhost:8080/"
        },
        "id": "HdALvji_JgXv",
        "outputId": "439d438e-f9f2-46a6-dd7a-eb9260ad0f61"
      },
      "source": [
        "df.shape"
      ],
      "execution_count": 8,
      "outputs": [
        {
          "output_type": "execute_result",
          "data": {
            "text/plain": [
              "(37027022, 3)"
            ]
          },
          "metadata": {},
          "execution_count": 8
        }
      ]
    },
    {
      "cell_type": "code",
      "metadata": {
        "id": "hl5BA5msH6DL"
      },
      "source": [
        "df_en = df.loc[df['language'] == 'en']"
      ],
      "execution_count": 10,
      "outputs": []
    },
    {
      "cell_type": "code",
      "metadata": {
        "colab": {
          "base_uri": "https://localhost:8080/"
        },
        "id": "xaAoMibMJdFn",
        "outputId": "20a5c878-ecaf-4e7b-83da-6492ad876ba1"
      },
      "source": [
        "df_en.shape"
      ],
      "execution_count": 11,
      "outputs": [
        {
          "output_type": "execute_result",
          "data": {
            "text/plain": [
              "(5400028, 3)"
            ]
          },
          "metadata": {},
          "execution_count": 11
        }
      ]
    }
  ]
}